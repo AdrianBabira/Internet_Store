{
  "nbformat": 4,
  "nbformat_minor": 0,
  "metadata": {
    "colab": {
      "provenance": [],
      "authorship_tag": "ABX9TyMYDdFACJA8IGTYoWveSvHD",
      "include_colab_link": true
    },
    "kernelspec": {
      "name": "python3",
      "display_name": "Python 3"
    },
    "language_info": {
      "name": "python"
    }
  },
  "cells": [
    {
      "cell_type": "markdown",
      "metadata": {
        "id": "view-in-github",
        "colab_type": "text"
      },
      "source": [
        "<a href=\"https://colab.research.google.com/github/AdrianBabira/Internet_Store/blob/main/Module_5%20Rev%20A.ipynb\" target=\"_parent\"><img src=\"https://colab.research.google.com/assets/colab-badge.svg\" alt=\"Open In Colab\"/></a>"
      ]
    },
    {
      "cell_type": "code",
      "execution_count": 2,
      "metadata": {
        "colab": {
          "base_uri": "https://localhost:8080/"
        },
        "id": "7c1sv-fPVx_7",
        "outputId": "9b3e2536-2b89-40a0-e05c-755389f4d975"
      },
      "outputs": [
        {
          "output_type": "stream",
          "name": "stdout",
          "text": [
            "[378, 679, 122, 131, 142, 153, 165, 178, 193, 208, 225, 243, 262, 283, 305, 330, 356, 384, 415, 448, 484, 522, 564, 609, 657, 710, 766, 82, 83, 84, 84, 85, 86, 86, 87, 88, 88, 89, 90, 91, 91, 92, 93, 93, 94, 95, 96, 96, 97, 98, 99, 100, 100, 101, 102, 103, 104, 104, 105, 106, 107, 108, 109, 110, 110, 111, 112, 113, 114, 115, 116, 117, 118, 119, 120, 120, 121, 122, 123, 124, 125, 126, 127, 128, 129, 130, 131, 132, 134, 135, 136, 137, 138, 139, 140, 141, 142, 143, 145, 146]\n"
          ]
        }
      ],
      "source": [
        "###\n",
        "#2.1. Задача\n",
        "#Используя мультипликативный метод формирования случайной последовательности, рассмотренный в шестой теме модуля, постройте последовательность ста случайных чисел.\n",
        "#Указание: для реализации задачи используйте цикл. Первый член последовательности X0 задаётся произвольным образом.\n",
        "#Также обратите внимание, что реализовать данный алгоритм можно на любом удобном языке программирования.\n",
        "#В случае правильной реализации алгоритма на выходе вы получите сто случайных чисел.\n",
        "#Числа генерируются случайным образом, значит, при каждом новом запуске алгоритма вы будете получать новую последовательность.\n",
        "###\n",
        "\n",
        "import random\n",
        "def generate_random_100_numbers():\n",
        "    ret_array = []\n",
        "    x_0 = random.randint(0, 1000)\n",
        "    t = 100\n",
        "    #* random.randint(0, 100)\n",
        "    lambda_ = t * 8 - 3\n",
        "    for _ in range(100):\n",
        "        x_0_str = str(x_0)\n",
        "        M = 10 ** len(x_0_str)\n",
        "        x_n = ((lambda_ * x_0 ) // M)\n",
        "        ret_array.append(x_n)\n",
        "        x_0 = x_n + x_0\n",
        "    return ret_array\n",
        "print(generate_random_100_numbers())\n",
        "\n"
      ]
    },
    {
      "cell_type": "code",
      "source": [
        "###\n",
        "#2.2. Задача\n",
        "#Некоторая случайная величина задана экспоненциальным законом распределения:\n",
        "#Составьте генерацию десяти случайных чисел yi.\n",
        "###\n",
        "import numpy as np\n",
        "\n",
        "# Количество случайных чисел\n",
        "n = 10\n",
        "# Параметр распределения\n",
        "beta = 1 / 4\n",
        "\n",
        "# Генерация случайных чисел\n",
        "random_numbers = -beta * np.log(1 - np.random.rand(n))\n",
        "print(random_numbers)\n"
      ],
      "metadata": {
        "colab": {
          "base_uri": "https://localhost:8080/"
        },
        "id": "QA8aVynbWGKp",
        "outputId": "7e3908a2-4e5e-4ef8-f009-5897b1353b73"
      },
      "execution_count": 3,
      "outputs": [
        {
          "output_type": "stream",
          "name": "stdout",
          "text": [
            "[0.04730153 0.3576179  0.06850585 0.24720317 0.51335409 0.00699816\n",
            " 0.08986577 0.9123742  0.06057062 0.03103479]\n"
          ]
        }
      ]
    },
    {
      "cell_type": "code",
      "source": [],
      "metadata": {
        "id": "uHewTsITWjKv"
      },
      "execution_count": null,
      "outputs": []
    }
  ]
}